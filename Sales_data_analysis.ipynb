{
 "cells": [
  {
   "cell_type": "markdown",
   "id": "e07767f5-e8ab-47d6-b037-0330b91dbbe9",
   "metadata": {},
   "source": [
    "Importing all neccesary libraries"
   ]
  },
  {
   "cell_type": "code",
   "execution_count": 3,
   "id": "c68182f6-1692-4ac1-bb6f-296bae0d957d",
   "metadata": {},
   "outputs": [],
   "source": [
    "# Importing all relavent libraries for project\n",
    "import pandas as pd\n",
    "import os\n",
    "import seaborn as sns\n",
    "import matplotlib.pyplot as plt"
   ]
  },
  {
   "cell_type": "markdown",
   "id": "69b099fa-5088-4790-b2a3-a9387c84546e",
   "metadata": {},
   "source": [
    "Reading the dataset"
   ]
  },
  {
   "cell_type": "code",
   "execution_count": 36,
   "id": "511f6869-9ab6-4c4f-a0de-440191f6ae14",
   "metadata": {},
   "outputs": [
    {
     "name": "stdout",
     "output_type": "stream",
     "text": [
      "        Unnamed: 0  Order ID                 Product  Quantity Ordered  \\\n",
      "185945       13617    222905  AAA Batteries (4-pack)                 1   \n",
      "185946       13618    222906        27in FHD Monitor                 1   \n",
      "185947       13619    222907    USB-C Charging Cable                 1   \n",
      "185948       13620    222908    USB-C Charging Cable                 1   \n",
      "185949       13621    222909  AAA Batteries (4-pack)                 1   \n",
      "\n",
      "        Price Each       Order Date                       Purchase Address  \\\n",
      "185945        2.99   7/6/2019 19:02          795 Pine St, Boston, MA 02215   \n",
      "185946      149.99   1/6/2019 19:29  495 North St, New York City, NY 10001   \n",
      "185947       11.95  22/6/2019 18:57  319 Ridge St, San Francisco, CA 94016   \n",
      "185948       11.95  26/6/2019 18:35   916 Main St, San Francisco, CA 94016   \n",
      "185949        2.99  25/6/2019 14:33         209 11th St, Atlanta, GA 30301   \n",
      "\n",
      "        Month   Sales            City  Hour  \n",
      "185945      6    2.99          Boston    19  \n",
      "185946      6  149.99   New York City    19  \n",
      "185947      6   11.95   San Francisco    18  \n",
      "185948      6   11.95   San Francisco    18  \n",
      "185949      6    2.99         Atlanta    14  \n"
     ]
    }
   ],
   "source": [
    "try:\n",
    "    df = pd.read_csv(r\"C:\\Users\\ruthu\\OneDrive\\Desktop\\Projects\\Sales_database.csv\")\n",
    "    print(df.tail())\n",
    "# Checking if the file is empty\n",
    "except pd.errors.EmptyDataError:\n",
    "    print(\"The file is empty. Please check the file content.\")\n",
    "# Checking if the file is not found\n",
    "except FileNotFoundError:\n",
    "    print(\"The file was not found. Please check the file path.\")\n",
    "except Exception as e:\n",
    "    print(f\"An error occurred: {e}\")\n"
   ]
  },
  {
   "cell_type": "markdown",
   "id": "fcca65dc-4ed2-47ee-8d7c-cae8aa253836",
   "metadata": {},
   "source": [
    "Getting the information of the dataset"
   ]
  },
  {
   "cell_type": "code",
   "execution_count": 40,
   "id": "49285096-0673-43c5-bee1-b38d34d9e2aa",
   "metadata": {},
   "outputs": [
    {
     "data": {
      "text/plain": [
       "Index(['Unnamed: 0', 'Order ID', 'Product', 'Quantity Ordered', 'Price Each',\n",
       "       'Order Date', 'Purchase Address', 'Month', 'Sales', 'City', 'Hour'],\n",
       "      dtype='object')"
      ]
     },
     "execution_count": 40,
     "metadata": {},
     "output_type": "execute_result"
    }
   ],
   "source": [
    "df.columns\n",
    "## The name of the columns present in the dataset"
   ]
  },
  {
   "cell_type": "code",
   "execution_count": 46,
   "id": "5b2b3aa5-652b-4880-a410-75417a93e3c8",
   "metadata": {},
   "outputs": [
    {
     "data": {
      "text/plain": [
       "(185950, 11)"
      ]
     },
     "execution_count": 46,
     "metadata": {},
     "output_type": "execute_result"
    }
   ],
   "source": [
    "df.shape\n",
    "## The size of dataset in the form of (row,column)"
   ]
  },
  {
   "cell_type": "code",
   "execution_count": 48,
   "id": "a4ffcc76-c2d5-46ec-afe7-6f86fd4e5b21",
   "metadata": {},
   "outputs": [
    {
     "name": "stdout",
     "output_type": "stream",
     "text": [
      "<class 'pandas.core.frame.DataFrame'>\n",
      "RangeIndex: 185950 entries, 0 to 185949\n",
      "Data columns (total 11 columns):\n",
      " #   Column            Non-Null Count   Dtype  \n",
      "---  ------            --------------   -----  \n",
      " 0   Unnamed: 0        185950 non-null  int64  \n",
      " 1   Order ID          185950 non-null  int64  \n",
      " 2   Product           185950 non-null  object \n",
      " 3   Quantity Ordered  185950 non-null  int64  \n",
      " 4   Price Each        185950 non-null  float64\n",
      " 5   Order Date        185950 non-null  object \n",
      " 6   Purchase Address  185950 non-null  object \n",
      " 7   Month             185950 non-null  int64  \n",
      " 8   Sales             185950 non-null  float64\n",
      " 9   City              185950 non-null  object \n",
      " 10  Hour              185950 non-null  int64  \n",
      "dtypes: float64(2), int64(5), object(4)\n",
      "memory usage: 15.6+ MB\n"
     ]
    }
   ],
   "source": [
    "df.info()\n",
    "## This pulls out the column, count and the data type of the values present under each column."
   ]
  },
  {
   "cell_type": "code",
   "execution_count": 50,
   "id": "55aad0d0-8fd3-472f-a568-5a0b792a6924",
   "metadata": {},
   "outputs": [
    {
     "data": {
      "text/plain": [
       "<bound method NDFrame.describe of         Unnamed: 0  Order ID                 Product  Quantity Ordered  \\\n",
       "0                0    295665      Macbook Pro Laptop                 1   \n",
       "1                1    295666      LG Washing Machine                 1   \n",
       "2                2    295667    USB-C Charging Cable                 1   \n",
       "3                3    295668        27in FHD Monitor                 1   \n",
       "4                4    295669    USB-C Charging Cable                 1   \n",
       "...            ...       ...                     ...               ...   \n",
       "185945       13617    222905  AAA Batteries (4-pack)                 1   \n",
       "185946       13618    222906        27in FHD Monitor                 1   \n",
       "185947       13619    222907    USB-C Charging Cable                 1   \n",
       "185948       13620    222908    USB-C Charging Cable                 1   \n",
       "185949       13621    222909  AAA Batteries (4-pack)                 1   \n",
       "\n",
       "        Price Each        Order Date                        Purchase Address  \\\n",
       "0          1700.00   30/12/2019 0:01  136 Church St, New York City, NY 10001   \n",
       "1           600.00   29/12/2019 7:03     562 2nd St, New York City, NY 10001   \n",
       "2            11.95  12/12/2019 18:21    277 Main St, New York City, NY 10001   \n",
       "3           149.99  22/12/2019 15:13     410 6th St, San Francisco, CA 94016   \n",
       "4            11.95  18/12/2019 12:38           43 Hill St, Atlanta, GA 30301   \n",
       "...            ...               ...                                     ...   \n",
       "185945        2.99    7/6/2019 19:02           795 Pine St, Boston, MA 02215   \n",
       "185946      149.99    1/6/2019 19:29   495 North St, New York City, NY 10001   \n",
       "185947       11.95   22/6/2019 18:57   319 Ridge St, San Francisco, CA 94016   \n",
       "185948       11.95   26/6/2019 18:35    916 Main St, San Francisco, CA 94016   \n",
       "185949        2.99   25/6/2019 14:33          209 11th St, Atlanta, GA 30301   \n",
       "\n",
       "        Month    Sales            City  Hour  \n",
       "0          12  1700.00   New York City     0  \n",
       "1          12   600.00   New York City     7  \n",
       "2          12    11.95   New York City    18  \n",
       "3          12   149.99   San Francisco    15  \n",
       "4          12    11.95         Atlanta    12  \n",
       "...       ...      ...             ...   ...  \n",
       "185945      6     2.99          Boston    19  \n",
       "185946      6   149.99   New York City    19  \n",
       "185947      6    11.95   San Francisco    18  \n",
       "185948      6    11.95   San Francisco    18  \n",
       "185949      6     2.99         Atlanta    14  \n",
       "\n",
       "[185950 rows x 11 columns]>"
      ]
     },
     "execution_count": 50,
     "metadata": {},
     "output_type": "execute_result"
    }
   ],
   "source": [
    "df.describe"
   ]
  },
  {
   "cell_type": "code",
   "execution_count": 52,
   "id": "74279134-b4dd-40f2-bee6-28ff4b823449",
   "metadata": {},
   "outputs": [
    {
     "data": {
      "text/plain": [
       "Unnamed: 0          0\n",
       "Order ID            0\n",
       "Product             0\n",
       "Quantity Ordered    0\n",
       "Price Each          0\n",
       "Order Date          0\n",
       "Purchase Address    0\n",
       "Month               0\n",
       "Sales               0\n",
       "City                0\n",
       "Hour                0\n",
       "dtype: int64"
      ]
     },
     "execution_count": 52,
     "metadata": {},
     "output_type": "execute_result"
    }
   ],
   "source": [
    "df.isnull().sum()"
   ]
  },
  {
   "cell_type": "markdown",
   "id": "72edf211-f1a0-4acf-b578-87b82f649b89",
   "metadata": {},
   "source": [
    "Removing the Index Row"
   ]
  },
  {
   "cell_type": "code",
   "execution_count": 54,
   "id": "5a8a0dd7-7ad2-4ad7-835c-f8335d284600",
   "metadata": {},
   "outputs": [],
   "source": [
    "if 'Unnamed: 0' in df.columns:\n",
    "    df = df.drop(columns=['Unnamed: 0'])"
   ]
  },
  {
   "cell_type": "markdown",
   "id": "a07095d6-c721-4c97-b143-f75bd408db14",
   "metadata": {},
   "source": [
    "Removing Any And All Duplicate Rows"
   ]
  },
  {
   "cell_type": "code",
   "execution_count": 58,
   "id": "a28867a2-c07a-4494-83f9-040d54243ee3",
   "metadata": {},
   "outputs": [],
   "source": [
    "df = df.drop_duplicates()"
   ]
  },
  {
   "cell_type": "markdown",
   "id": "e960308f-d2ff-4a25-8ff5-e1c1e9dc3bd3",
   "metadata": {},
   "source": [
    "What is the .apply()?\n",
    "- The 'apply' method is a powerful function in programming, particularly in data manipulation libraries like pandas, which allows users to apply a  function along an axis of a DataFrame or on values of a Series. It enables complex data transformations and aggregations by applying custom or built-in functions to datasets, enhancing data processing capabilities."
   ]
  },
  {
   "cell_type": "code",
   "execution_count": 60,
   "id": "1068e700-b9a8-4e57-b092-cf78de5321c0",
   "metadata": {},
   "outputs": [
    {
     "data": {
      "text/html": [
       "<div>\n",
       "<style scoped>\n",
       "    .dataframe tbody tr th:only-of-type {\n",
       "        vertical-align: middle;\n",
       "    }\n",
       "\n",
       "    .dataframe tbody tr th {\n",
       "        vertical-align: top;\n",
       "    }\n",
       "\n",
       "    .dataframe thead th {\n",
       "        text-align: right;\n",
       "    }\n",
       "</style>\n",
       "<table border=\"1\" class=\"dataframe\">\n",
       "  <thead>\n",
       "    <tr style=\"text-align: right;\">\n",
       "      <th></th>\n",
       "      <th>Order ID</th>\n",
       "      <th>Product</th>\n",
       "      <th>Quantity Ordered</th>\n",
       "      <th>Price Each</th>\n",
       "      <th>Order Date</th>\n",
       "      <th>Purchase Address</th>\n",
       "      <th>Month</th>\n",
       "      <th>Sales</th>\n",
       "      <th>City</th>\n",
       "      <th>Hour</th>\n",
       "    </tr>\n",
       "  </thead>\n",
       "  <tbody>\n",
       "    <tr>\n",
       "      <th>0</th>\n",
       "      <td>295665</td>\n",
       "      <td>Macbook Pro Laptop</td>\n",
       "      <td>1</td>\n",
       "      <td>1700.00</td>\n",
       "      <td>30/12/2019 0:01</td>\n",
       "      <td>136 Church St, New York City, NY 10001</td>\n",
       "      <td>12</td>\n",
       "      <td>1700.00</td>\n",
       "      <td>New York City</td>\n",
       "      <td>0</td>\n",
       "    </tr>\n",
       "    <tr>\n",
       "      <th>1</th>\n",
       "      <td>295666</td>\n",
       "      <td>LG Washing Machine</td>\n",
       "      <td>1</td>\n",
       "      <td>600.00</td>\n",
       "      <td>29/12/2019 7:03</td>\n",
       "      <td>562 2nd St, New York City, NY 10001</td>\n",
       "      <td>12</td>\n",
       "      <td>600.00</td>\n",
       "      <td>New York City</td>\n",
       "      <td>7</td>\n",
       "    </tr>\n",
       "    <tr>\n",
       "      <th>2</th>\n",
       "      <td>295667</td>\n",
       "      <td>USB-C Charging Cable</td>\n",
       "      <td>1</td>\n",
       "      <td>11.95</td>\n",
       "      <td>12/12/2019 18:21</td>\n",
       "      <td>277 Main St, New York City, NY 10001</td>\n",
       "      <td>12</td>\n",
       "      <td>11.95</td>\n",
       "      <td>New York City</td>\n",
       "      <td>18</td>\n",
       "    </tr>\n",
       "    <tr>\n",
       "      <th>3</th>\n",
       "      <td>295668</td>\n",
       "      <td>27in FHD Monitor</td>\n",
       "      <td>1</td>\n",
       "      <td>149.99</td>\n",
       "      <td>22/12/2019 15:13</td>\n",
       "      <td>410 6th St, San Francisco, CA 94016</td>\n",
       "      <td>12</td>\n",
       "      <td>149.99</td>\n",
       "      <td>San Francisco</td>\n",
       "      <td>15</td>\n",
       "    </tr>\n",
       "    <tr>\n",
       "      <th>4</th>\n",
       "      <td>295669</td>\n",
       "      <td>USB-C Charging Cable</td>\n",
       "      <td>1</td>\n",
       "      <td>11.95</td>\n",
       "      <td>18/12/2019 12:38</td>\n",
       "      <td>43 Hill St, Atlanta, GA 30301</td>\n",
       "      <td>12</td>\n",
       "      <td>11.95</td>\n",
       "      <td>Atlanta</td>\n",
       "      <td>12</td>\n",
       "    </tr>\n",
       "  </tbody>\n",
       "</table>\n",
       "</div>"
      ],
      "text/plain": [
       "   Order ID               Product  Quantity Ordered  Price Each  \\\n",
       "0    295665    Macbook Pro Laptop                 1     1700.00   \n",
       "1    295666    LG Washing Machine                 1      600.00   \n",
       "2    295667  USB-C Charging Cable                 1       11.95   \n",
       "3    295668      27in FHD Monitor                 1      149.99   \n",
       "4    295669  USB-C Charging Cable                 1       11.95   \n",
       "\n",
       "         Order Date                        Purchase Address  Month    Sales  \\\n",
       "0   30/12/2019 0:01  136 Church St, New York City, NY 10001     12  1700.00   \n",
       "1   29/12/2019 7:03     562 2nd St, New York City, NY 10001     12   600.00   \n",
       "2  12/12/2019 18:21    277 Main St, New York City, NY 10001     12    11.95   \n",
       "3  22/12/2019 15:13     410 6th St, San Francisco, CA 94016     12   149.99   \n",
       "4  18/12/2019 12:38           43 Hill St, Atlanta, GA 30301     12    11.95   \n",
       "\n",
       "             City  Hour  \n",
       "0   New York City     0  \n",
       "1   New York City     7  \n",
       "2   New York City    18  \n",
       "3   San Francisco    15  \n",
       "4         Atlanta    12  "
      ]
     },
     "execution_count": 60,
     "metadata": {},
     "output_type": "execute_result"
    }
   ],
   "source": [
    "# Let's use .apply()\n",
    "# This two functions are used to get the city from the dataset \n",
    "def get_city(address):\n",
    "    return address.split(',')[1]\n",
    "\n",
    "df['City'] = df['Purchase Address'].apply(lambda x: f\"{get_city(x)}\")\n",
    "df.head()"
   ]
  },
  {
   "cell_type": "markdown",
   "id": "f35cf7f5-0a49-4478-a2ae-8084e5836539",
   "metadata": {},
   "source": [
    "Question 1: What was the best month for sales? How much was earned that month?"
   ]
  },
  {
   "cell_type": "markdown",
   "id": "23495da7-956b-45e6-9dda-af1317727c9e",
   "metadata": {},
   "source": [
    "The best way to approach this is to find the sum of the sales in one month and compare it to the other months. For easier understandind, a graph can be ploted to understand the sales sold."
   ]
  },
  {
   "cell_type": "code",
   "execution_count": 68,
   "id": "573a625d-8f95-48a7-a76d-5611efa8cf8b",
   "metadata": {},
   "outputs": [
    {
     "data": {
      "text/html": [
       "<div>\n",
       "<style scoped>\n",
       "    .dataframe tbody tr th:only-of-type {\n",
       "        vertical-align: middle;\n",
       "    }\n",
       "\n",
       "    .dataframe tbody tr th {\n",
       "        vertical-align: top;\n",
       "    }\n",
       "\n",
       "    .dataframe thead th {\n",
       "        text-align: right;\n",
       "    }\n",
       "</style>\n",
       "<table border=\"1\" class=\"dataframe\">\n",
       "  <thead>\n",
       "    <tr style=\"text-align: right;\">\n",
       "      <th></th>\n",
       "      <th>Order ID</th>\n",
       "      <th>Product</th>\n",
       "      <th>Quantity Ordered</th>\n",
       "      <th>Price Each</th>\n",
       "      <th>Order Date</th>\n",
       "      <th>Purchase Address</th>\n",
       "      <th>Sales</th>\n",
       "      <th>City</th>\n",
       "      <th>Hour</th>\n",
       "    </tr>\n",
       "    <tr>\n",
       "      <th>Month</th>\n",
       "      <th></th>\n",
       "      <th></th>\n",
       "      <th></th>\n",
       "      <th></th>\n",
       "      <th></th>\n",
       "      <th></th>\n",
       "      <th></th>\n",
       "      <th></th>\n",
       "      <th></th>\n",
       "    </tr>\n",
       "  </thead>\n",
       "  <tbody>\n",
       "    <tr>\n",
       "      <th>1</th>\n",
       "      <td>1420152202</td>\n",
       "      <td>Lightning Charging CableiPhoneLightning Chargi...</td>\n",
       "      <td>10893</td>\n",
       "      <td>1810924.81</td>\n",
       "      <td>1/1/2020 0:381/1/2020 0:221/1/2020 0:221/1/202...</td>\n",
       "      <td>427 Wilson St, Dallas, TX 75001519 13th St, Ne...</td>\n",
       "      <td>1821413.16</td>\n",
       "      <td>Dallas New York City New York City San Franci...</td>\n",
       "      <td>139339</td>\n",
       "    </tr>\n",
       "    <tr>\n",
       "      <th>9</th>\n",
       "      <td>2944144303</td>\n",
       "      <td>Apple Airpods Headphones34in Ultrawide Monitor...</td>\n",
       "      <td>13091</td>\n",
       "      <td>2081897.65</td>\n",
       "      <td>1/9/2019 4:131/9/2019 1:091/9/2019 2:071/9/201...</td>\n",
       "      <td>761 Forest St, San Francisco, CA 94016373 1st ...</td>\n",
       "      <td>2094465.69</td>\n",
       "      <td>San Francisco San Francisco Seattle San Franc...</td>\n",
       "      <td>168206</td>\n",
       "    </tr>\n",
       "    <tr>\n",
       "      <th>2</th>\n",
       "      <td>1868278508</td>\n",
       "      <td>iPhoneAA Batteries (4-pack)27in 4K Gaming Moni...</td>\n",
       "      <td>13431</td>\n",
       "      <td>2186940.38</td>\n",
       "      <td>18/2/2019 1:3513/2/2019 7:2418/2/2019 9:462/2/...</td>\n",
       "      <td>866 Spruce St, Portland, ME 0410118 13th St, S...</td>\n",
       "      <td>2200078.08</td>\n",
       "      <td>Portland San Francisco New York City Atlanta ...</td>\n",
       "      <td>172392</td>\n",
       "    </tr>\n",
       "    <tr>\n",
       "      <th>8</th>\n",
       "      <td>2894980432</td>\n",
       "      <td>Wired HeadphonesBose SoundSport HeadphonesiPho...</td>\n",
       "      <td>13429</td>\n",
       "      <td>2226963.90</td>\n",
       "      <td>31/8/2019 22:2115/8/2019 15:116/8/2019 14:4029...</td>\n",
       "      <td>359 Spruce St, Seattle, WA 98101492 Ridge St, ...</td>\n",
       "      <td>2241083.37</td>\n",
       "      <td>Seattle Dallas Portland Los Angeles New York ...</td>\n",
       "      <td>172049</td>\n",
       "    </tr>\n",
       "    <tr>\n",
       "      <th>6</th>\n",
       "      <td>2928868159</td>\n",
       "      <td>27in FHD MonitorAAA Batteries (4-pack)Lightnin...</td>\n",
       "      <td>15234</td>\n",
       "      <td>2560503.50</td>\n",
       "      <td>1/6/2019 3:261/6/2019 1:061/6/2019 0:181/6/201...</td>\n",
       "      <td>856 Elm St, San Francisco, CA 94016877 Center ...</td>\n",
       "      <td>2576280.15</td>\n",
       "      <td>San Francisco Dallas San Francisco San Franci...</td>\n",
       "      <td>195223</td>\n",
       "    </tr>\n",
       "    <tr>\n",
       "      <th>7</th>\n",
       "      <td>3280010744</td>\n",
       "      <td>Apple Airpods HeadphonesFlatscreen TVAA Batter...</td>\n",
       "      <td>16054</td>\n",
       "      <td>2631225.12</td>\n",
       "      <td>26/7/2019 16:515/7/2019 8:5529/7/2019 12:4128/...</td>\n",
       "      <td>389 South St, Atlanta, GA 30301590 4th St, Sea...</td>\n",
       "      <td>2646461.32</td>\n",
       "      <td>Atlanta Seattle Atlanta Atlanta Seattle San F...</td>\n",
       "      <td>205909</td>\n",
       "    </tr>\n",
       "    <tr>\n",
       "      <th>3</th>\n",
       "      <td>2560592045</td>\n",
       "      <td>AAA Batteries (4-pack)AAA Batteries (4-pack)Wi...</td>\n",
       "      <td>16979</td>\n",
       "      <td>2789084.64</td>\n",
       "      <td>1/3/2019 3:061/3/2019 1:031/3/2019 2:181/3/201...</td>\n",
       "      <td>270 Dogwood St, San Francisco, CA 94016683 Ada...</td>\n",
       "      <td>2804973.35</td>\n",
       "      <td>San Francisco Portland San Francisco San Fran...</td>\n",
       "      <td>218622</td>\n",
       "    </tr>\n",
       "    <tr>\n",
       "      <th>5</th>\n",
       "      <td>3343056791</td>\n",
       "      <td>Apple Airpods Headphones27in FHD MonitoriPhone...</td>\n",
       "      <td>18653</td>\n",
       "      <td>3133134.61</td>\n",
       "      <td>1/5/2019 3:291/5/2019 0:131/5/2019 0:481/5/201...</td>\n",
       "      <td>589 Lake St, Portland, OR 97035615 Lincoln St,...</td>\n",
       "      <td>3150616.23</td>\n",
       "      <td>Portland San Francisco Boston Boston San Fran...</td>\n",
       "      <td>238580</td>\n",
       "    </tr>\n",
       "    <tr>\n",
       "      <th>11</th>\n",
       "      <td>5038923457</td>\n",
       "      <td>Wired HeadphonesUSB-C Charging CableApple Airp...</td>\n",
       "      <td>19769</td>\n",
       "      <td>3178872.53</td>\n",
       "      <td>21/11/2019 9:5417/11/2019 10:0319/11/2019 14:5...</td>\n",
       "      <td>46 Park St, New York City, NY 10001962 Hickory...</td>\n",
       "      <td>3197875.05</td>\n",
       "      <td>New York City Austin Los Angeles Seattle Bost...</td>\n",
       "      <td>254430</td>\n",
       "    </tr>\n",
       "    <tr>\n",
       "      <th>4</th>\n",
       "      <td>3383299164</td>\n",
       "      <td>USB-C Charging CableBose SoundSport Headphones...</td>\n",
       "      <td>20536</td>\n",
       "      <td>3366218.76</td>\n",
       "      <td>19/4/2019 8:467/4/2019 22:3012/4/2019 14:3812/...</td>\n",
       "      <td>917 1st St, Dallas, TX 75001682 Chestnut St, B...</td>\n",
       "      <td>3389217.98</td>\n",
       "      <td>Dallas Boston Los Angeles Los Angeles Los Ang...</td>\n",
       "      <td>261916</td>\n",
       "    </tr>\n",
       "    <tr>\n",
       "      <th>10</th>\n",
       "      <td>5448214091</td>\n",
       "      <td>34in Ultrawide Monitor27in 4K Gaming MonitorAA...</td>\n",
       "      <td>22669</td>\n",
       "      <td>3713608.80</td>\n",
       "      <td>28/10/2019 10:5628/10/2019 17:2624/10/2019 17:...</td>\n",
       "      <td>609 Cherry St, Dallas, TX 75001225 5th St, Los...</td>\n",
       "      <td>3734777.86</td>\n",
       "      <td>Dallas Los Angeles New York City New York Cit...</td>\n",
       "      <td>290183</td>\n",
       "    </tr>\n",
       "    <tr>\n",
       "      <th>12</th>\n",
       "      <td>7673646910</td>\n",
       "      <td>Macbook Pro LaptopLG Washing MachineUSB-C Char...</td>\n",
       "      <td>28074</td>\n",
       "      <td>4583267.77</td>\n",
       "      <td>30/12/2019 0:0129/12/2019 7:0312/12/2019 18:21...</td>\n",
       "      <td>136 Church St, New York City, NY 10001562 2nd ...</td>\n",
       "      <td>4608295.70</td>\n",
       "      <td>New York City New York City New York City San...</td>\n",
       "      <td>359431</td>\n",
       "    </tr>\n",
       "  </tbody>\n",
       "</table>\n",
       "</div>"
      ],
      "text/plain": [
       "         Order ID                                            Product  \\\n",
       "Month                                                                  \n",
       "1      1420152202  Lightning Charging CableiPhoneLightning Chargi...   \n",
       "9      2944144303  Apple Airpods Headphones34in Ultrawide Monitor...   \n",
       "2      1868278508  iPhoneAA Batteries (4-pack)27in 4K Gaming Moni...   \n",
       "8      2894980432  Wired HeadphonesBose SoundSport HeadphonesiPho...   \n",
       "6      2928868159  27in FHD MonitorAAA Batteries (4-pack)Lightnin...   \n",
       "7      3280010744  Apple Airpods HeadphonesFlatscreen TVAA Batter...   \n",
       "3      2560592045  AAA Batteries (4-pack)AAA Batteries (4-pack)Wi...   \n",
       "5      3343056791  Apple Airpods Headphones27in FHD MonitoriPhone...   \n",
       "11     5038923457  Wired HeadphonesUSB-C Charging CableApple Airp...   \n",
       "4      3383299164  USB-C Charging CableBose SoundSport Headphones...   \n",
       "10     5448214091  34in Ultrawide Monitor27in 4K Gaming MonitorAA...   \n",
       "12     7673646910  Macbook Pro LaptopLG Washing MachineUSB-C Char...   \n",
       "\n",
       "       Quantity Ordered  Price Each  \\\n",
       "Month                                 \n",
       "1                 10893  1810924.81   \n",
       "9                 13091  2081897.65   \n",
       "2                 13431  2186940.38   \n",
       "8                 13429  2226963.90   \n",
       "6                 15234  2560503.50   \n",
       "7                 16054  2631225.12   \n",
       "3                 16979  2789084.64   \n",
       "5                 18653  3133134.61   \n",
       "11                19769  3178872.53   \n",
       "4                 20536  3366218.76   \n",
       "10                22669  3713608.80   \n",
       "12                28074  4583267.77   \n",
       "\n",
       "                                              Order Date  \\\n",
       "Month                                                      \n",
       "1      1/1/2020 0:381/1/2020 0:221/1/2020 0:221/1/202...   \n",
       "9      1/9/2019 4:131/9/2019 1:091/9/2019 2:071/9/201...   \n",
       "2      18/2/2019 1:3513/2/2019 7:2418/2/2019 9:462/2/...   \n",
       "8      31/8/2019 22:2115/8/2019 15:116/8/2019 14:4029...   \n",
       "6      1/6/2019 3:261/6/2019 1:061/6/2019 0:181/6/201...   \n",
       "7      26/7/2019 16:515/7/2019 8:5529/7/2019 12:4128/...   \n",
       "3      1/3/2019 3:061/3/2019 1:031/3/2019 2:181/3/201...   \n",
       "5      1/5/2019 3:291/5/2019 0:131/5/2019 0:481/5/201...   \n",
       "11     21/11/2019 9:5417/11/2019 10:0319/11/2019 14:5...   \n",
       "4      19/4/2019 8:467/4/2019 22:3012/4/2019 14:3812/...   \n",
       "10     28/10/2019 10:5628/10/2019 17:2624/10/2019 17:...   \n",
       "12     30/12/2019 0:0129/12/2019 7:0312/12/2019 18:21...   \n",
       "\n",
       "                                        Purchase Address       Sales  \\\n",
       "Month                                                                  \n",
       "1      427 Wilson St, Dallas, TX 75001519 13th St, Ne...  1821413.16   \n",
       "9      761 Forest St, San Francisco, CA 94016373 1st ...  2094465.69   \n",
       "2      866 Spruce St, Portland, ME 0410118 13th St, S...  2200078.08   \n",
       "8      359 Spruce St, Seattle, WA 98101492 Ridge St, ...  2241083.37   \n",
       "6      856 Elm St, San Francisco, CA 94016877 Center ...  2576280.15   \n",
       "7      389 South St, Atlanta, GA 30301590 4th St, Sea...  2646461.32   \n",
       "3      270 Dogwood St, San Francisco, CA 94016683 Ada...  2804973.35   \n",
       "5      589 Lake St, Portland, OR 97035615 Lincoln St,...  3150616.23   \n",
       "11     46 Park St, New York City, NY 10001962 Hickory...  3197875.05   \n",
       "4      917 1st St, Dallas, TX 75001682 Chestnut St, B...  3389217.98   \n",
       "10     609 Cherry St, Dallas, TX 75001225 5th St, Los...  3734777.86   \n",
       "12     136 Church St, New York City, NY 10001562 2nd ...  4608295.70   \n",
       "\n",
       "                                                    City    Hour  \n",
       "Month                                                             \n",
       "1       Dallas New York City New York City San Franci...  139339  \n",
       "9       San Francisco San Francisco Seattle San Franc...  168206  \n",
       "2       Portland San Francisco New York City Atlanta ...  172392  \n",
       "8       Seattle Dallas Portland Los Angeles New York ...  172049  \n",
       "6       San Francisco Dallas San Francisco San Franci...  195223  \n",
       "7       Atlanta Seattle Atlanta Atlanta Seattle San F...  205909  \n",
       "3       San Francisco Portland San Francisco San Fran...  218622  \n",
       "5       Portland San Francisco Boston Boston San Fran...  238580  \n",
       "11      New York City Austin Los Angeles Seattle Bost...  254430  \n",
       "4       Dallas Boston Los Angeles Los Angeles Los Ang...  261916  \n",
       "10      Dallas Los Angeles New York City New York Cit...  290183  \n",
       "12      New York City New York City New York City San...  359431  "
      ]
     },
     "execution_count": 68,
     "metadata": {},
     "output_type": "execute_result"
    }
   ],
   "source": [
    "bestsales = df.groupby(\"Month\").sum().sort_values(by='Sales', ascending=True)\n",
    "bestsales"
   ]
  },
  {
   "cell_type": "code",
   "execution_count": 72,
   "id": "e370ad14-936e-44b6-bc96-684783c0a9a9",
   "metadata": {},
   "outputs": [
    {
     "data": {
      "image/png": "[encoded data removed]",
      "text/plain": [
       "<Figure size 640x480 with 1 Axes>"
      ]
     },
     "metadata": {},
     "output_type": "display_data"
    }
   ],
   "source": [
    "## Ploting a graph giving it a range, we add one more month \"13\" as this will cause a out of range error.\n",
    "months=range(1,13)\n",
    "\n",
    "plt.bar(months,bestsales['Sales'])\n",
    "plt.xticks(months)\n",
    "plt.xlabel(\"Month number\")\n",
    "plt.ylabel(\"Sales in USD ($)\")\n",
    "plt.show()"
   ]
  },
  {
   "cell_type": "code",
   "execution_count": 111,
   "id": "e72386f3-4994-47ee-9088-91c67f3873e9",
   "metadata": {},
   "outputs": [
    {
     "name": "stdout",
     "output_type": "stream",
     "text": [
      "The month with the hightest sales is 12 with sales of 4608295.7 USD\n"
     ]
    }
   ],
   "source": [
    "monthly_sales = df.groupby('Month')['Sales'].sum()\n",
    "highest_sales_month = monthly_sales.idxmax()\n",
    "highest_sales_value = monthly_sales.max()\n",
    "\n",
    "print(\"The month with the hightest sales is\",highest_sales_month,\"with sales of\",highest_sales_value,\"USD\")"
   ]
  },
  {
   "cell_type": "markdown",
   "id": "4f3d82f3-5455-4f3d-8835-5fed8932b3f8",
   "metadata": {},
   "source": [
    "What city had the best sales?"
   ]
  },
  {
   "cell_type": "code",
   "execution_count": 125,
   "id": "72874eb3-7400-4bf9-bc05-14915d93afbe",
   "metadata": {},
   "outputs": [
    {
     "data": {
      "text/plain": [
       "City\n",
       "San Francisco    8254743.55\n",
       "Los Angeles      5448304.28\n",
       "New York City    4661867.14\n",
       "Boston           3658627.65\n",
       "Atlanta          2794199.07\n",
       "Dallas           2765373.96\n",
       "Seattle          2745046.02\n",
       "Portland         2319331.94\n",
       "Austin           1818044.33\n",
       "Name: Sales, dtype: float64"
      ]
     },
     "execution_count": 125,
     "metadata": {},
     "output_type": "execute_result"
    }
   ],
   "source": [
    "## Here we group the dataset by the city and find the sum of sales in each city\n",
    "## The nlargest() is a function that call the  largest n numbers to store in city_sales\n",
    "city_sales = df.groupby(\"City\")['Sales'].sum().nlargest(10)\n",
    "city_sales"
   ]
  },
  {
   "cell_type": "code",
   "execution_count": 135,
   "id": "f1a0ec75-f495-42d8-9841-9ebc7e6e3ebd",
   "metadata": {},
   "outputs": [
    {
     "data": {
      "text/plain": [
       "City\n",
       "San Francisco    8254743.55\n",
       "Name: Sales, dtype: float64"
      ]
     },
     "execution_count": 135,
     "metadata": {},
     "output_type": "execute_result"
    }
   ],
   "source": [
    "## repeating the above statement to print the city with highest sales \n",
    "highest_city_sales = df.groupby(\"City\")['Sales'].sum().nlargest(1)\n",
    "highest_city_sales"
   ]
  },
  {
   "cell_type": "code",
   "execution_count": 137,
   "id": "87792d95-4631-4575-b97f-244b3708ff02",
   "metadata": {},
   "outputs": [
    {
     "data": {
      "image/png": "[encoded data removed]",
      "text/plain": [
       "<Figure size 640x480 with 1 Axes>"
      ]
     },
     "metadata": {},
     "output_type": "display_data"
    }
   ],
   "source": [
    "sns.barplot(y=city_sales.index,x=city_sales).set(title='Top 10 cities which sold the most' );"
   ]
  },
  {
   "cell_type": "markdown",
   "id": "5f15077d-e9b0-4330-8fe9-3835afcd8894",
   "metadata": {},
   "source": [
    "Question 5:What product sold the most? Why do you think it sold the most?\n"
   ]
  },
  {
   "cell_type": "code",
   "execution_count": 140,
   "id": "cc15bbc9-1004-48f8-8f62-c9b20f59450f",
   "metadata": {},
   "outputs": [],
   "source": [
    "product_group = df.groupby('Product')"
   ]
  },
  {
   "cell_type": "code",
   "execution_count": 142,
   "id": "5a57a202-b827-438e-bcf4-6b84c64bfb5e",
   "metadata": {},
   "outputs": [],
   "source": [
    "quantity_ordered =product_group.sum()['Quantity Ordered']\n",
    "\n",
    "products = [product for product ,df in product_group]"
   ]
  },
  {
   "cell_type": "code",
   "execution_count": 143,
   "id": "ae783daa-5c2b-46ef-9ecb-cb75b13f39da",
   "metadata": {},
   "outputs": [
    {
     "data": {
      "image/png": "[encoded data removed]",
      "text/plain": [
       "<Figure size 640x480 with 1 Axes>"
      ]
     },
     "metadata": {},
     "output_type": "display_data"
    }
   ],
   "source": [
    "plt.bar(products, quantity_ordered)\n",
    "plt.ylabel('Quantity Ordered')\n",
    "plt.xlabel('Product')\n",
    "plt.xticks(products,rotation='vertical',size=8)\n",
    "plt.show()"
   ]
  },
  {
   "cell_type": "markdown",
   "id": "b54a4fdf-a428-466c-8f40-e58ce9abc2cd",
   "metadata": {},
   "source": [
    "Trend in Hours vs sales"
   ]
  },
  {
   "cell_type": "code",
   "execution_count": 156,
   "id": "be9e2e17-3187-498a-850d-059b68f4b96e",
   "metadata": {},
   "outputs": [
    {
     "data": {
      "text/plain": [
       "<Axes: xlabel='Hour'>"
      ]
     },
     "execution_count": 156,
     "metadata": {},
     "output_type": "execute_result"
    },
    {
     "data": {
      "image/png": "[encoded data removed]",
      "text/plain": [
       "<Figure size 640x480 with 1 Axes>"
      ]
     },
     "metadata": {},
     "output_type": "display_data"
    }
   ],
   "source": [
    "df.groupby('Hour')['Sales'].sum().plot.bar(color='pink')"
   ]
  },
  {
   "cell_type": "markdown",
   "id": "5054398c-56b2-412c-b961-36a3ce662b32",
   "metadata": {},
   "source": [
    "This is the end of the data Analysis sheet, hoped it helped out!!!"
   ]
  }
 ],
 "metadata": {
  "kernelspec": {
   "display_name": "Python [conda env:base] *",
   "language": "python",
   "name": "conda-base-py"
  },
  "language_info": {
   "codemirror_mode": {
    "name": "ipython",
    "version": 3
   },
   "file_extension": ".py",
   "mimetype": "text/x-python",
   "name": "python",
   "nbconvert_exporter": "python",
   "pygments_lexer": "ipython3",
   "version": "3.12.7"
  }
 },
 "nbformat": 4,
 "nbformat_minor": 5
}
